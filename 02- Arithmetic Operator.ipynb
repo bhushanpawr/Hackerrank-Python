{
 "cells": [
  {
   "cell_type": "code",
   "execution_count": null,
   "id": "1ea2cf0f",
   "metadata": {},
   "outputs": [],
   "source": [
    "#Task\n",
    "#The provided code stub reads two integers from STDIN, a and b. Add code to print three lines where:\n",
    "\n",
    "#1] The first line contains the sum of the two numbers.\n",
    "#2] The second line contains the difference of the two numbers (first - second).\n",
    "#3] The third line contains the product of the two numbers."
   ]
  },
  {
   "cell_type": "code",
   "execution_count": 2,
   "id": "9b7da374",
   "metadata": {},
   "outputs": [
    {
     "name": "stdout",
     "output_type": "stream",
     "text": [
      "a:3\n",
      "b:4\n",
      "a+b 7\n",
      "a-b -1\n",
      "a*b 12\n"
     ]
    }
   ],
   "source": [
    "a = int(input('a:'))\n",
    "b = int(input('b:'))\n",
    "print('a+b',a+b)\n",
    "print('a-b',a-b)\n",
    "print('a*b',a*b)"
   ]
  }
 ],
 "metadata": {
  "kernelspec": {
   "display_name": "Python 3 (ipykernel)",
   "language": "python",
   "name": "python3"
  },
  "language_info": {
   "codemirror_mode": {
    "name": "ipython",
    "version": 3
   },
   "file_extension": ".py",
   "mimetype": "text/x-python",
   "name": "python",
   "nbconvert_exporter": "python",
   "pygments_lexer": "ipython3",
   "version": "3.9.12"
  }
 },
 "nbformat": 4,
 "nbformat_minor": 5
}
