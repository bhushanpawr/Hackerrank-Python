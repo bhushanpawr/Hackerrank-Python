{
 "cells": [
  {
   "cell_type": "markdown",
   "id": "3b6bd5c8",
   "metadata": {},
   "source": [
    "Task=\n",
    "Given an integer, , perform the following conditional actions:\n",
    "•\tIf  is odd, print Weird\n",
    "•\tIf  is even and in the inclusive range of  2 to 5, print Not Weird\n",
    "•\tIf  is even and in the inclusive range of  6 to 20, print Weird\n",
    "•\tIf  is even and greater than 20 , print Not Weird"
   ]
  },
  {
   "cell_type": "code",
   "execution_count": 4,
   "id": "81dd3a49",
   "metadata": {},
   "outputs": [
    {
     "name": "stdout",
     "output_type": "stream",
     "text": [
      "3\n",
      "Weird\n"
     ]
    }
   ],
   "source": [
    "n=int(input());\n",
    "if n%2!=0:\n",
    "    print('Weird')\n",
    "elif n>=2 and n<=5:\n",
    "    print('Not Weird')\n",
    "elif n>=6 and n<=20:\n",
    "    print('Weird')\n",
    "elif n>20:\n",
    "    print('Not Weird')"
   ]
  }
 ],
 "metadata": {
  "kernelspec": {
   "display_name": "Python 3 (ipykernel)",
   "language": "python",
   "name": "python3"
  },
  "language_info": {
   "codemirror_mode": {
    "name": "ipython",
    "version": 3
   },
   "file_extension": ".py",
   "mimetype": "text/x-python",
   "name": "python",
   "nbconvert_exporter": "python",
   "pygments_lexer": "ipython3",
   "version": "3.9.12"
  }
 },
 "nbformat": 4,
 "nbformat_minor": 5
}
